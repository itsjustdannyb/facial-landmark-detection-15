{
 "cells": [
  {
   "cell_type": "code",
   "execution_count": 1,
   "id": "feb1cc77",
   "metadata": {
    "execution": {
     "iopub.execute_input": "2025-03-10T14:10:24.993637Z",
     "iopub.status.busy": "2025-03-10T14:10:24.993286Z",
     "iopub.status.idle": "2025-03-10T14:10:33.541512Z",
     "shell.execute_reply": "2025-03-10T14:10:33.540630Z"
    },
    "papermill": {
     "duration": 8.556027,
     "end_time": "2025-03-10T14:10:33.543000",
     "exception": false,
     "start_time": "2025-03-10T14:10:24.986973",
     "status": "completed"
    },
    "tags": []
   },
   "outputs": [
    {
     "name": "stdout",
     "output_type": "stream",
     "text": [
      "running on cuda\n"
     ]
    }
   ],
   "source": [
    "import cv2\n",
    "import random\n",
    "import numpy as np\n",
    "import pandas as pd\n",
    "from PIL import Image\n",
    "from pathlib import Path\n",
    "import matplotlib.pyplot as plt\n",
    "from google.colab.patches import cv2_imshow\n",
    "\n",
    "\n",
    "import torch\n",
    "from torch import nn\n",
    "import torchvision\n",
    "from torchinfo import summary\n",
    "import torchvision.transforms.v2 as T2\n",
    "from torch.utils.data import DataLoader, Dataset, Subset\n",
    "\n",
    "device = \"cuda\" if torch.cuda.is_available() else \"cpu\"\n",
    "print(f\"running on {device}\")"
   ]
  },
  {
   "cell_type": "code",
   "execution_count": 2,
   "id": "960c675b",
   "metadata": {
    "execution": {
     "iopub.execute_input": "2025-03-10T14:10:33.553722Z",
     "iopub.status.busy": "2025-03-10T14:10:33.553328Z",
     "iopub.status.idle": "2025-03-10T14:10:33.561389Z",
     "shell.execute_reply": "2025-03-10T14:10:33.560602Z"
    },
    "papermill": {
     "duration": 0.014605,
     "end_time": "2025-03-10T14:10:33.562766",
     "exception": false,
     "start_time": "2025-03-10T14:10:33.548161",
     "status": "completed"
    },
    "tags": []
   },
   "outputs": [],
   "source": [
    "def seeds(seed_no:int=42):\n",
    "    random.seed(seed_no)\n",
    "    torch.manual_seed(seed_no)\n",
    "    torch.cuda.manual_seed(seed_no)\n",
    "\n",
    "seeds()"
   ]
  },
  {
   "cell_type": "code",
   "execution_count": 3,
   "id": "d987a50c",
   "metadata": {
    "execution": {
     "iopub.execute_input": "2025-03-10T14:10:33.573393Z",
     "iopub.status.busy": "2025-03-10T14:10:33.573109Z",
     "iopub.status.idle": "2025-03-10T14:10:33.576157Z",
     "shell.execute_reply": "2025-03-10T14:10:33.575532Z"
    },
    "papermill": {
     "duration": 0.009844,
     "end_time": "2025-03-10T14:10:33.577257",
     "exception": false,
     "start_time": "2025-03-10T14:10:33.567413",
     "status": "completed"
    },
    "tags": []
   },
   "outputs": [],
   "source": [
    "images_path = Path(\"/kaggle/input/face-images-with-marked-landmark-points/face_images.npz\")\n",
    "keypoints_path = Path(\"/kaggle/input/face-images-with-marked-landmark-points/facial_keypoints.csv\")"
   ]
  },
  {
   "cell_type": "code",
   "execution_count": 4,
   "id": "595c56b5",
   "metadata": {
    "execution": {
     "iopub.execute_input": "2025-03-10T14:10:33.587080Z",
     "iopub.status.busy": "2025-03-10T14:10:33.586875Z",
     "iopub.status.idle": "2025-03-10T14:10:36.637418Z",
     "shell.execute_reply": "2025-03-10T14:10:36.636633Z"
    },
    "papermill": {
     "duration": 3.056946,
     "end_time": "2025-03-10T14:10:36.638858",
     "exception": false,
     "start_time": "2025-03-10T14:10:33.581912",
     "status": "completed"
    },
    "tags": []
   },
   "outputs": [
    {
     "name": "stderr",
     "output_type": "stream",
     "text": [
      "<ipython-input-4-b6bbf95d303a>:2: UserWarning: Reading `.npy` or `.npz` file required additional header parsing as it was created on Python 2. Save the file again to speed up loading and avoid this warning.\n",
      "  images = images[images.files[0]] # get the data\n"
     ]
    },
    {
     "data": {
      "text/plain": [
       "(7049, 96, 96, 1)"
      ]
     },
     "execution_count": 4,
     "metadata": {},
     "output_type": "execute_result"
    }
   ],
   "source": [
    "images = np.load(images_path) \n",
    "images = images[images.files[0]] # get the data\n",
    "images = np.moveaxis(images, -1, 0)  # move the last index to the first, changes (96,96,7049) -> (7049, 96, 96)\n",
    "images = images.reshape(images.shape[0], images.shape[1], images.shape[2], 1) # add color channel (7049, 1, 96, 96)\n",
    "images.shape"
   ]
  },
  {
   "cell_type": "code",
   "execution_count": 5,
   "id": "77c93268",
   "metadata": {
    "execution": {
     "iopub.execute_input": "2025-03-10T14:10:36.649625Z",
     "iopub.status.busy": "2025-03-10T14:10:36.649348Z",
     "iopub.status.idle": "2025-03-10T14:10:36.653751Z",
     "shell.execute_reply": "2025-03-10T14:10:36.653091Z"
    },
    "papermill": {
     "duration": 0.011057,
     "end_time": "2025-03-10T14:10:36.655028",
     "exception": false,
     "start_time": "2025-03-10T14:10:36.643971",
     "status": "completed"
    },
    "tags": []
   },
   "outputs": [
    {
     "data": {
      "text/plain": [
       "numpy.ndarray"
      ]
     },
     "execution_count": 5,
     "metadata": {},
     "output_type": "execute_result"
    }
   ],
   "source": [
    "type(images[0])"
   ]
  },
  {
   "cell_type": "markdown",
   "id": "9c6ef6e7",
   "metadata": {
    "papermill": {
     "duration": 0.004602,
     "end_time": "2025-03-10T14:10:36.664464",
     "exception": false,
     "start_time": "2025-03-10T14:10:36.659862",
     "status": "completed"
    },
    "tags": []
   },
   "source": [
    "### plot random images"
   ]
  },
  {
   "cell_type": "code",
   "execution_count": 6,
   "id": "57b7d1b2",
   "metadata": {
    "execution": {
     "iopub.execute_input": "2025-03-10T14:10:36.674926Z",
     "iopub.status.busy": "2025-03-10T14:10:36.674699Z",
     "iopub.status.idle": "2025-03-10T14:10:36.969253Z",
     "shell.execute_reply": "2025-03-10T14:10:36.968394Z"
    },
    "papermill": {
     "duration": 0.301467,
     "end_time": "2025-03-10T14:10:36.970701",
     "exception": false,
     "start_time": "2025-03-10T14:10:36.669234",
     "status": "completed"
    },
    "tags": []
   },
   "outputs": [
    {
     "data": {
      "image/png": "[encoded data removed]",
      "text/plain": [
       "<Figure size 1000x500 with 6 Axes>"
      ]
     },
     "metadata": {},
     "output_type": "display_data"
    }
   ],
   "source": [
    "def plot (img:np.ndarray, ax):\n",
    "    ax.imshow(img, cmap=\"gray\") \n",
    "    ax.axis(False)\n",
    "\n",
    "no_images = 6\n",
    "samples = torch.randperm(len(images))[:no_images]\n",
    "\n",
    "fig, axs = plt.subplots(nrows=1, ncols=no_images, figsize=(10,5))\n",
    "for i in range(len(samples)):\n",
    "    plot(images[samples[i]], ax=axs[i])"
   ]
  },
  {
   "cell_type": "markdown",
   "id": "2dd4c330",
   "metadata": {
    "papermill": {
     "duration": 0.005966,
     "end_time": "2025-03-10T14:10:36.983116",
     "exception": false,
     "start_time": "2025-03-10T14:10:36.977150",
     "status": "completed"
    },
    "tags": []
   },
   "source": [
    "### get landmarks\n"
   ]
  },
  {
   "cell_type": "code",
   "execution_count": 7,
   "id": "4f6db605",
   "metadata": {
    "execution": {
     "iopub.execute_input": "2025-03-10T14:10:36.996239Z",
     "iopub.status.busy": "2025-03-10T14:10:36.996006Z",
     "iopub.status.idle": "2025-03-10T14:10:37.067031Z",
     "shell.execute_reply": "2025-03-10T14:10:37.065938Z"
    },
    "papermill": {
     "duration": 0.079023,
     "end_time": "2025-03-10T14:10:37.068296",
     "exception": false,
     "start_time": "2025-03-10T14:10:36.989273",
     "status": "completed"
    },
    "tags": []
   },
   "outputs": [
    {
     "name": "stdout",
     "output_type": "stream",
     "text": [
      "<class 'pandas.core.frame.DataFrame'>\n",
      "RangeIndex: 7049 entries, 0 to 7048\n",
      "Data columns (total 30 columns):\n",
      " #   Column                     Non-Null Count  Dtype  \n",
      "---  ------                     --------------  -----  \n",
      " 0   left_eye_center_x          7039 non-null   float64\n",
      " 1   left_eye_center_y          7039 non-null   float64\n",
      " 2   right_eye_center_x         7036 non-null   float64\n",
      " 3   right_eye_center_y         7036 non-null   float64\n",
      " 4   left_eye_inner_corner_x    2271 non-null   float64\n",
      " 5   left_eye_inner_corner_y    2271 non-null   float64\n",
      " 6   left_eye_outer_corner_x    2267 non-null   float64\n",
      " 7   left_eye_outer_corner_y    2267 non-null   float64\n",
      " 8   right_eye_inner_corner_x   2268 non-null   float64\n",
      " 9   right_eye_inner_corner_y   2268 non-null   float64\n",
      " 10  right_eye_outer_corner_x   2268 non-null   float64\n",
      " 11  right_eye_outer_corner_y   2268 non-null   float64\n",
      " 12  left_eyebrow_inner_end_x   2270 non-null   float64\n",
      " 13  left_eyebrow_inner_end_y   2270 non-null   float64\n",
      " 14  left_eyebrow_outer_end_x   2225 non-null   float64\n",
      " 15  left_eyebrow_outer_end_y   2225 non-null   float64\n",
      " 16  right_eyebrow_inner_end_x  2270 non-null   float64\n",
      " 17  right_eyebrow_inner_end_y  2270 non-null   float64\n",
      " 18  right_eyebrow_outer_end_x  2236 non-null   float64\n",
      " 19  right_eyebrow_outer_end_y  2236 non-null   float64\n",
      " 20  nose_tip_x                 7049 non-null   float64\n",
      " 21  nose_tip_y                 7049 non-null   float64\n",
      " 22  mouth_left_corner_x        2269 non-null   float64\n",
      " 23  mouth_left_corner_y        2269 non-null   float64\n",
      " 24  mouth_right_corner_x       2270 non-null   float64\n",
      " 25  mouth_right_corner_y       2270 non-null   float64\n",
      " 26  mouth_center_top_lip_x     2275 non-null   float64\n",
      " 27  mouth_center_top_lip_y     2275 non-null   float64\n",
      " 28  mouth_center_bottom_lip_x  7016 non-null   float64\n",
      " 29  mouth_center_bottom_lip_y  7016 non-null   float64\n",
      "dtypes: float64(30)\n",
      "memory usage: 1.6 MB\n"
     ]
    }
   ],
   "source": [
    "landmarks_df = pd.read_csv(keypoints_path)\n",
    "landmarks_df.info()"
   ]
  },
  {
   "cell_type": "code",
   "execution_count": 8,
   "id": "55db8595",
   "metadata": {
    "execution": {
     "iopub.execute_input": "2025-03-10T14:10:37.081230Z",
     "iopub.status.busy": "2025-03-10T14:10:37.081012Z",
     "iopub.status.idle": "2025-03-10T14:10:37.112699Z",
     "shell.execute_reply": "2025-03-10T14:10:37.111992Z"
    },
    "papermill": {
     "duration": 0.039607,
     "end_time": "2025-03-10T14:10:37.114062",
     "exception": false,
     "start_time": "2025-03-10T14:10:37.074455",
     "status": "completed"
    },
    "tags": []
   },
   "outputs": [
    {
     "data": {
      "text/html": [
       "<div>\n",
       "<style scoped>\n",
       "    .dataframe tbody tr th:only-of-type {\n",
       "        vertical-align: middle;\n",
       "    }\n",
       "\n",
       "    .dataframe tbody tr th {\n",
       "        vertical-align: top;\n",
       "    }\n",
       "\n",
       "    .dataframe thead th {\n",
       "        text-align: right;\n",
       "    }\n",
       "</style>\n",
       "<table border=\"1\" class=\"dataframe\">\n",
       "  <thead>\n",
       "    <tr style=\"text-align: right;\">\n",
       "      <th></th>\n",
       "      <th>left_eye_center_x</th>\n",
       "      <th>left_eye_center_y</th>\n",
       "      <th>right_eye_center_x</th>\n",
       "      <th>right_eye_center_y</th>\n",
       "      <th>left_eye_inner_corner_x</th>\n",
       "      <th>left_eye_inner_corner_y</th>\n",
       "      <th>left_eye_outer_corner_x</th>\n",
       "      <th>left_eye_outer_corner_y</th>\n",
       "      <th>right_eye_inner_corner_x</th>\n",
       "      <th>right_eye_inner_corner_y</th>\n",
       "      <th>...</th>\n",
       "      <th>nose_tip_x</th>\n",
       "      <th>nose_tip_y</th>\n",
       "      <th>mouth_left_corner_x</th>\n",
       "      <th>mouth_left_corner_y</th>\n",
       "      <th>mouth_right_corner_x</th>\n",
       "      <th>mouth_right_corner_y</th>\n",
       "      <th>mouth_center_top_lip_x</th>\n",
       "      <th>mouth_center_top_lip_y</th>\n",
       "      <th>mouth_center_bottom_lip_x</th>\n",
       "      <th>mouth_center_bottom_lip_y</th>\n",
       "    </tr>\n",
       "  </thead>\n",
       "  <tbody>\n",
       "    <tr>\n",
       "      <th>0</th>\n",
       "      <td>66.033564</td>\n",
       "      <td>39.002274</td>\n",
       "      <td>30.227008</td>\n",
       "      <td>36.421678</td>\n",
       "      <td>59.582075</td>\n",
       "      <td>39.647423</td>\n",
       "      <td>73.130346</td>\n",
       "      <td>39.969997</td>\n",
       "      <td>36.356571</td>\n",
       "      <td>37.389402</td>\n",
       "      <td>...</td>\n",
       "      <td>44.420571</td>\n",
       "      <td>57.066803</td>\n",
       "      <td>61.195308</td>\n",
       "      <td>79.970165</td>\n",
       "      <td>28.614496</td>\n",
       "      <td>77.388992</td>\n",
       "      <td>43.312602</td>\n",
       "      <td>72.935459</td>\n",
       "      <td>43.130707</td>\n",
       "      <td>84.485774</td>\n",
       "    </tr>\n",
       "    <tr>\n",
       "      <th>1</th>\n",
       "      <td>64.332936</td>\n",
       "      <td>34.970077</td>\n",
       "      <td>29.949277</td>\n",
       "      <td>33.448715</td>\n",
       "      <td>58.856170</td>\n",
       "      <td>35.274349</td>\n",
       "      <td>70.722723</td>\n",
       "      <td>36.187166</td>\n",
       "      <td>36.034723</td>\n",
       "      <td>34.361532</td>\n",
       "      <td>...</td>\n",
       "      <td>48.206298</td>\n",
       "      <td>55.660936</td>\n",
       "      <td>56.421447</td>\n",
       "      <td>76.352000</td>\n",
       "      <td>35.122383</td>\n",
       "      <td>76.047660</td>\n",
       "      <td>46.684596</td>\n",
       "      <td>70.266553</td>\n",
       "      <td>45.467915</td>\n",
       "      <td>85.480170</td>\n",
       "    </tr>\n",
       "    <tr>\n",
       "      <th>2</th>\n",
       "      <td>65.057053</td>\n",
       "      <td>34.909642</td>\n",
       "      <td>30.903789</td>\n",
       "      <td>34.909642</td>\n",
       "      <td>59.412000</td>\n",
       "      <td>36.320968</td>\n",
       "      <td>70.984421</td>\n",
       "      <td>36.320968</td>\n",
       "      <td>37.678105</td>\n",
       "      <td>36.320968</td>\n",
       "      <td>...</td>\n",
       "      <td>47.557263</td>\n",
       "      <td>53.538947</td>\n",
       "      <td>60.822947</td>\n",
       "      <td>73.014316</td>\n",
       "      <td>33.726316</td>\n",
       "      <td>72.732000</td>\n",
       "      <td>47.274947</td>\n",
       "      <td>70.191789</td>\n",
       "      <td>47.274947</td>\n",
       "      <td>78.659368</td>\n",
       "    </tr>\n",
       "    <tr>\n",
       "      <th>3</th>\n",
       "      <td>65.225739</td>\n",
       "      <td>37.261774</td>\n",
       "      <td>32.023096</td>\n",
       "      <td>37.261774</td>\n",
       "      <td>60.003339</td>\n",
       "      <td>39.127179</td>\n",
       "      <td>72.314713</td>\n",
       "      <td>38.380967</td>\n",
       "      <td>37.618643</td>\n",
       "      <td>38.754115</td>\n",
       "      <td>...</td>\n",
       "      <td>51.885078</td>\n",
       "      <td>54.166539</td>\n",
       "      <td>65.598887</td>\n",
       "      <td>72.703722</td>\n",
       "      <td>37.245496</td>\n",
       "      <td>74.195478</td>\n",
       "      <td>50.303165</td>\n",
       "      <td>70.091687</td>\n",
       "      <td>51.561183</td>\n",
       "      <td>78.268383</td>\n",
       "    </tr>\n",
       "    <tr>\n",
       "      <th>4</th>\n",
       "      <td>66.725301</td>\n",
       "      <td>39.621261</td>\n",
       "      <td>32.244810</td>\n",
       "      <td>38.042032</td>\n",
       "      <td>58.565890</td>\n",
       "      <td>39.621261</td>\n",
       "      <td>72.515926</td>\n",
       "      <td>39.884466</td>\n",
       "      <td>36.982380</td>\n",
       "      <td>39.094852</td>\n",
       "      <td>...</td>\n",
       "      <td>43.299534</td>\n",
       "      <td>64.889521</td>\n",
       "      <td>60.671411</td>\n",
       "      <td>77.523239</td>\n",
       "      <td>31.191755</td>\n",
       "      <td>76.997301</td>\n",
       "      <td>44.962748</td>\n",
       "      <td>73.707387</td>\n",
       "      <td>44.227141</td>\n",
       "      <td>86.871166</td>\n",
       "    </tr>\n",
       "    <tr>\n",
       "      <th>...</th>\n",
       "      <td>...</td>\n",
       "      <td>...</td>\n",
       "      <td>...</td>\n",
       "      <td>...</td>\n",
       "      <td>...</td>\n",
       "      <td>...</td>\n",
       "      <td>...</td>\n",
       "      <td>...</td>\n",
       "      <td>...</td>\n",
       "      <td>...</td>\n",
       "      <td>...</td>\n",
       "      <td>...</td>\n",
       "      <td>...</td>\n",
       "      <td>...</td>\n",
       "      <td>...</td>\n",
       "      <td>...</td>\n",
       "      <td>...</td>\n",
       "      <td>...</td>\n",
       "      <td>...</td>\n",
       "      <td>...</td>\n",
       "      <td>...</td>\n",
       "    </tr>\n",
       "    <tr>\n",
       "      <th>7044</th>\n",
       "      <td>67.402546</td>\n",
       "      <td>31.842551</td>\n",
       "      <td>29.746749</td>\n",
       "      <td>38.632942</td>\n",
       "      <td>0.000000</td>\n",
       "      <td>0.000000</td>\n",
       "      <td>0.000000</td>\n",
       "      <td>0.000000</td>\n",
       "      <td>0.000000</td>\n",
       "      <td>0.000000</td>\n",
       "      <td>...</td>\n",
       "      <td>48.265961</td>\n",
       "      <td>67.029093</td>\n",
       "      <td>0.000000</td>\n",
       "      <td>0.000000</td>\n",
       "      <td>0.000000</td>\n",
       "      <td>0.000000</td>\n",
       "      <td>0.000000</td>\n",
       "      <td>0.000000</td>\n",
       "      <td>50.426637</td>\n",
       "      <td>79.683921</td>\n",
       "    </tr>\n",
       "    <tr>\n",
       "      <th>7045</th>\n",
       "      <td>66.134400</td>\n",
       "      <td>38.365501</td>\n",
       "      <td>30.478626</td>\n",
       "      <td>39.950198</td>\n",
       "      <td>0.000000</td>\n",
       "      <td>0.000000</td>\n",
       "      <td>0.000000</td>\n",
       "      <td>0.000000</td>\n",
       "      <td>0.000000</td>\n",
       "      <td>0.000000</td>\n",
       "      <td>...</td>\n",
       "      <td>47.910346</td>\n",
       "      <td>66.626011</td>\n",
       "      <td>0.000000</td>\n",
       "      <td>0.000000</td>\n",
       "      <td>0.000000</td>\n",
       "      <td>0.000000</td>\n",
       "      <td>0.000000</td>\n",
       "      <td>0.000000</td>\n",
       "      <td>50.287397</td>\n",
       "      <td>77.983023</td>\n",
       "    </tr>\n",
       "    <tr>\n",
       "      <th>7046</th>\n",
       "      <td>66.690732</td>\n",
       "      <td>36.845221</td>\n",
       "      <td>31.666420</td>\n",
       "      <td>39.685042</td>\n",
       "      <td>0.000000</td>\n",
       "      <td>0.000000</td>\n",
       "      <td>0.000000</td>\n",
       "      <td>0.000000</td>\n",
       "      <td>0.000000</td>\n",
       "      <td>0.000000</td>\n",
       "      <td>...</td>\n",
       "      <td>49.462572</td>\n",
       "      <td>67.515161</td>\n",
       "      <td>0.000000</td>\n",
       "      <td>0.000000</td>\n",
       "      <td>0.000000</td>\n",
       "      <td>0.000000</td>\n",
       "      <td>0.000000</td>\n",
       "      <td>0.000000</td>\n",
       "      <td>49.462572</td>\n",
       "      <td>78.117120</td>\n",
       "    </tr>\n",
       "    <tr>\n",
       "      <th>7047</th>\n",
       "      <td>70.965082</td>\n",
       "      <td>39.853666</td>\n",
       "      <td>30.543285</td>\n",
       "      <td>40.772339</td>\n",
       "      <td>0.000000</td>\n",
       "      <td>0.000000</td>\n",
       "      <td>0.000000</td>\n",
       "      <td>0.000000</td>\n",
       "      <td>0.000000</td>\n",
       "      <td>0.000000</td>\n",
       "      <td>...</td>\n",
       "      <td>50.754202</td>\n",
       "      <td>66.724988</td>\n",
       "      <td>0.000000</td>\n",
       "      <td>0.000000</td>\n",
       "      <td>0.000000</td>\n",
       "      <td>0.000000</td>\n",
       "      <td>0.000000</td>\n",
       "      <td>0.000000</td>\n",
       "      <td>50.065186</td>\n",
       "      <td>79.586447</td>\n",
       "    </tr>\n",
       "    <tr>\n",
       "      <th>7048</th>\n",
       "      <td>66.938311</td>\n",
       "      <td>43.424510</td>\n",
       "      <td>31.096059</td>\n",
       "      <td>39.528604</td>\n",
       "      <td>0.000000</td>\n",
       "      <td>0.000000</td>\n",
       "      <td>0.000000</td>\n",
       "      <td>0.000000</td>\n",
       "      <td>0.000000</td>\n",
       "      <td>0.000000</td>\n",
       "      <td>...</td>\n",
       "      <td>47.069250</td>\n",
       "      <td>73.033339</td>\n",
       "      <td>0.000000</td>\n",
       "      <td>0.000000</td>\n",
       "      <td>0.000000</td>\n",
       "      <td>0.000000</td>\n",
       "      <td>0.000000</td>\n",
       "      <td>0.000000</td>\n",
       "      <td>45.900480</td>\n",
       "      <td>82.773096</td>\n",
       "    </tr>\n",
       "  </tbody>\n",
       "</table>\n",
       "<p>7049 rows × 30 columns</p>\n",
       "</div>"
      ],
      "text/plain": [
       "      left_eye_center_x  left_eye_center_y  right_eye_center_x  \\\n",
       "0             66.033564          39.002274           30.227008   \n",
       "1             64.332936          34.970077           29.949277   \n",
       "2             65.057053          34.909642           30.903789   \n",
       "3             65.225739          37.261774           32.023096   \n",
       "4             66.725301          39.621261           32.244810   \n",
       "...                 ...                ...                 ...   \n",
       "7044          67.402546          31.842551           29.746749   \n",
       "7045          66.134400          38.365501           30.478626   \n",
       "7046          66.690732          36.845221           31.666420   \n",
       "7047          70.965082          39.853666           30.543285   \n",
       "7048          66.938311          43.424510           31.096059   \n",
       "\n",
       "      right_eye_center_y  left_eye_inner_corner_x  left_eye_inner_corner_y  \\\n",
       "0              36.421678                59.582075                39.647423   \n",
       "1              33.448715                58.856170                35.274349   \n",
       "2              34.909642                59.412000                36.320968   \n",
       "3              37.261774                60.003339                39.127179   \n",
       "4              38.042032                58.565890                39.621261   \n",
       "...                  ...                      ...                      ...   \n",
       "7044           38.632942                 0.000000                 0.000000   \n",
       "7045           39.950198                 0.000000                 0.000000   \n",
       "7046           39.685042                 0.000000                 0.000000   \n",
       "7047           40.772339                 0.000000                 0.000000   \n",
       "7048           39.528604                 0.000000                 0.000000   \n",
       "\n",
       "      left_eye_outer_corner_x  left_eye_outer_corner_y  \\\n",
       "0                   73.130346                39.969997   \n",
       "1                   70.722723                36.187166   \n",
       "2                   70.984421                36.320968   \n",
       "3                   72.314713                38.380967   \n",
       "4                   72.515926                39.884466   \n",
       "...                       ...                      ...   \n",
       "7044                 0.000000                 0.000000   \n",
       "7045                 0.000000                 0.000000   \n",
       "7046                 0.000000                 0.000000   \n",
       "7047                 0.000000                 0.000000   \n",
       "7048                 0.000000                 0.000000   \n",
       "\n",
       "      right_eye_inner_corner_x  right_eye_inner_corner_y  ...  nose_tip_x  \\\n",
       "0                    36.356571                 37.389402  ...   44.420571   \n",
       "1                    36.034723                 34.361532  ...   48.206298   \n",
       "2                    37.678105                 36.320968  ...   47.557263   \n",
       "3                    37.618643                 38.754115  ...   51.885078   \n",
       "4                    36.982380                 39.094852  ...   43.299534   \n",
       "...                        ...                       ...  ...         ...   \n",
       "7044                  0.000000                  0.000000  ...   48.265961   \n",
       "7045                  0.000000                  0.000000  ...   47.910346   \n",
       "7046                  0.000000                  0.000000  ...   49.462572   \n",
       "7047                  0.000000                  0.000000  ...   50.754202   \n",
       "7048                  0.000000                  0.000000  ...   47.069250   \n",
       "\n",
       "      nose_tip_y  mouth_left_corner_x  mouth_left_corner_y  \\\n",
       "0      57.066803            61.195308            79.970165   \n",
       "1      55.660936            56.421447            76.352000   \n",
       "2      53.538947            60.822947            73.014316   \n",
       "3      54.166539            65.598887            72.703722   \n",
       "4      64.889521            60.671411            77.523239   \n",
       "...          ...                  ...                  ...   \n",
       "7044   67.029093             0.000000             0.000000   \n",
       "7045   66.626011             0.000000             0.000000   \n",
       "7046   67.515161             0.000000             0.000000   \n",
       "7047   66.724988             0.000000             0.000000   \n",
       "7048   73.033339             0.000000             0.000000   \n",
       "\n",
       "      mouth_right_corner_x  mouth_right_corner_y  mouth_center_top_lip_x  \\\n",
       "0                28.614496             77.388992               43.312602   \n",
       "1                35.122383             76.047660               46.684596   \n",
       "2                33.726316             72.732000               47.274947   \n",
       "3                37.245496             74.195478               50.303165   \n",
       "4                31.191755             76.997301               44.962748   \n",
       "...                    ...                   ...                     ...   \n",
       "7044              0.000000              0.000000                0.000000   \n",
       "7045              0.000000              0.000000                0.000000   \n",
       "7046              0.000000              0.000000                0.000000   \n",
       "7047              0.000000              0.000000                0.000000   \n",
       "7048              0.000000              0.000000                0.000000   \n",
       "\n",
       "      mouth_center_top_lip_y  mouth_center_bottom_lip_x  \\\n",
       "0                  72.935459                  43.130707   \n",
       "1                  70.266553                  45.467915   \n",
       "2                  70.191789                  47.274947   \n",
       "3                  70.091687                  51.561183   \n",
       "4                  73.707387                  44.227141   \n",
       "...                      ...                        ...   \n",
       "7044                0.000000                  50.426637   \n",
       "7045                0.000000                  50.287397   \n",
       "7046                0.000000                  49.462572   \n",
       "7047                0.000000                  50.065186   \n",
       "7048                0.000000                  45.900480   \n",
       "\n",
       "      mouth_center_bottom_lip_y  \n",
       "0                     84.485774  \n",
       "1                     85.480170  \n",
       "2                     78.659368  \n",
       "3                     78.268383  \n",
       "4                     86.871166  \n",
       "...                         ...  \n",
       "7044                  79.683921  \n",
       "7045                  77.983023  \n",
       "7046                  78.117120  \n",
       "7047                  79.586447  \n",
       "7048                  82.773096  \n",
       "\n",
       "[7049 rows x 30 columns]"
      ]
     },
     "execution_count": 8,
     "metadata": {},
     "output_type": "execute_result"
    }
   ],
   "source": [
    "# replace NaN's with 0\n",
    "landmarks_df.fillna(value=0, inplace=True)\n",
    "landmarks_df"
   ]
  },
  {
   "cell_type": "code",
   "execution_count": 9,
   "id": "645b0aa5",
   "metadata": {
    "execution": {
     "iopub.execute_input": "2025-03-10T14:10:37.128180Z",
     "iopub.status.busy": "2025-03-10T14:10:37.127965Z",
     "iopub.status.idle": "2025-03-10T14:10:37.132766Z",
     "shell.execute_reply": "2025-03-10T14:10:37.132099Z"
    },
    "papermill": {
     "duration": 0.013296,
     "end_time": "2025-03-10T14:10:37.134067",
     "exception": false,
     "start_time": "2025-03-10T14:10:37.120771",
     "status": "completed"
    },
    "tags": []
   },
   "outputs": [
    {
     "data": {
      "text/plain": [
       "array([66.03356391, 39.00227368, 30.22700752, 36.4216782 , 59.58207519,\n",
       "       39.64742256, 73.13034586, 39.96999699, 36.35657143, 37.3894015 ,\n",
       "       23.45287218, 37.3894015 , 56.95326316, 29.03364812, 80.22712782,\n",
       "       32.22813835, 40.22760902, 29.0023218 , 16.35637895, 29.64747068,\n",
       "       44.42057143, 57.06680301, 61.19530827, 79.97016541, 28.61449624,\n",
       "       77.38899248, 43.3126015 , 72.93545865, 43.13070677, 84.48577444])"
      ]
     },
     "execution_count": 9,
     "metadata": {},
     "output_type": "execute_result"
    }
   ],
   "source": [
    "landmarks = np.array(landmarks_df.values)\n",
    "landmarks[0]"
   ]
  },
  {
   "cell_type": "code",
   "execution_count": 10,
   "id": "0e6bbe7c",
   "metadata": {
    "execution": {
     "iopub.execute_input": "2025-03-10T14:10:37.148307Z",
     "iopub.status.busy": "2025-03-10T14:10:37.148082Z",
     "iopub.status.idle": "2025-03-10T14:10:37.152278Z",
     "shell.execute_reply": "2025-03-10T14:10:37.151705Z"
    },
    "papermill": {
     "duration": 0.012608,
     "end_time": "2025-03-10T14:10:37.153444",
     "exception": false,
     "start_time": "2025-03-10T14:10:37.140836",
     "status": "completed"
    },
    "tags": []
   },
   "outputs": [],
   "source": [
    "def pair_landmarks(landmarks):\n",
    "    pairs = []\n",
    "    idx = 0\n",
    "    while idx < len(landmarks):\n",
    "        pair = landmarks[idx:idx+2]\n",
    "        pair = [int(coord) for coord in pair]\n",
    "        pairs.append(pair)\n",
    "        idx += 2\n",
    "    return pairs\n",
    "    \n",
    "def draw_landmark_on_image(img, landmark):\n",
    "    pairs = pair_landmarks(landmark)\n",
    "    for pair in pairs:\n",
    "        img = cv2.circle(img.astype(np.uint8), pair, 1, (255,255,255), 1)\n",
    "    return cv2_imshow(img)"
   ]
  },
  {
   "cell_type": "code",
   "execution_count": 11,
   "id": "7cee1db4",
   "metadata": {
    "execution": {
     "iopub.execute_input": "2025-03-10T14:10:37.167920Z",
     "iopub.status.busy": "2025-03-10T14:10:37.167684Z",
     "iopub.status.idle": "2025-03-10T14:10:37.200161Z",
     "shell.execute_reply": "2025-03-10T14:10:37.199371Z"
    },
    "papermill": {
     "duration": 0.041275,
     "end_time": "2025-03-10T14:10:37.201386",
     "exception": false,
     "start_time": "2025-03-10T14:10:37.160111",
     "status": "completed"
    },
    "tags": []
   },
   "outputs": [
    {
     "data": {
      "image/jpeg": "[encoded data removed]",
      "image/png": "[encoded data removed]",
      "text/plain": [
       "<PIL.Image.Image image mode=RGB size=96x96>"
      ]
     },
     "metadata": {},
     "output_type": "display_data"
    },
    {
     "data": {
      "image/jpeg": "[encoded data removed]",
      "image/png": "[encoded data removed]",
      "text/plain": [
       "<PIL.Image.Image image mode=RGB size=96x96>"
      ]
     },
     "metadata": {},
     "output_type": "display_data"
    },
    {
     "data": {
      "image/jpeg": "[encoded data removed]",
      "image/png": "[encoded data removed]",
      "text/plain": [
       "<PIL.Image.Image image mode=RGB size=96x96>"
      ]
     },
     "metadata": {},
     "output_type": "display_data"
    },
    {
     "data": {
      "image/jpeg": "[encoded data removed]",
      "image/png": "[encoded data removed]",
      "text/plain": [
       "<PIL.Image.Image image mode=RGB size=96x96>"
      ]
     },
     "metadata": {},
     "output_type": "display_data"
    },
    {
     "data": {
      "image/jpeg": "[encoded data removed]",
      "image/png": "[encoded data removed]",
      "text/plain": [
       "<PIL.Image.Image image mode=RGB size=96x96>"
      ]
     },
     "metadata": {},
     "output_type": "display_data"
    }
   ],
   "source": [
    "no_images = 5\n",
    "samples = torch.randperm(len(images))[:no_images]\n",
    "for i in range(len(samples)):\n",
    "    axs[i] = draw_landmark_on_image(images[samples[i]], landmarks[samples[i]])"
   ]
  },
  {
   "cell_type": "markdown",
   "id": "9176ddc5",
   "metadata": {
    "papermill": {
     "duration": 0.007756,
     "end_time": "2025-03-10T14:10:37.217435",
     "exception": false,
     "start_time": "2025-03-10T14:10:37.209679",
     "status": "completed"
    },
    "tags": []
   },
   "source": [
    "### dataset"
   ]
  },
  {
   "cell_type": "code",
   "execution_count": 12,
   "id": "24702909",
   "metadata": {
    "execution": {
     "iopub.execute_input": "2025-03-10T14:10:37.234427Z",
     "iopub.status.busy": "2025-03-10T14:10:37.234202Z",
     "iopub.status.idle": "2025-03-10T14:10:37.240225Z",
     "shell.execute_reply": "2025-03-10T14:10:37.239464Z"
    },
    "papermill": {
     "duration": 0.015701,
     "end_time": "2025-03-10T14:10:37.241367",
     "exception": false,
     "start_time": "2025-03-10T14:10:37.225666",
     "status": "completed"
    },
    "tags": []
   },
   "outputs": [],
   "source": [
    "class LandmarkDataset(Dataset):\n",
    "    def __init__ (self, images_dir, landmarks_dir, transforms=None):\n",
    "        super(LandmarkDataset).__init__()\n",
    "        self.images = self.load_images(images_dir)\n",
    "        self.landmarks = self.load_landmarks(landmarks_dir)\n",
    "        self.transforms = transforms\n",
    "\n",
    "    def load_images(self, images_dir):\n",
    "        images = np.load(images_dir) \n",
    "        images = images[images.files[0]] # get the data\n",
    "        images = np.moveaxis(images, -1, 0)  # move the last index to the first, changes (96,96,7049) -> (7049, 96, 96)\n",
    "        images = images.reshape(images.shape[0], images.shape[1], images.shape[2], 1) # add color channel (7049, 1, 96, 96)\n",
    "        return images\n",
    "\n",
    "    def load_landmarks(self, landmarks_dir):\n",
    "        landmarks_df = pd.read_csv(landmarks_dir)\n",
    "        landmarks_df.fillna(value=0, inplace=True)\n",
    "        landmarks = np.array(landmarks_df.values)\n",
    "        return landmarks\n",
    "\n",
    "    def __len__(self):\n",
    "        return len(self.images)\n",
    "\n",
    "    def __getitem__(self, idx):\n",
    "        image = torch.tensor(self.images[idx], dtype=torch.float).permute(2,0,1)\n",
    "        landmarks = torch.tensor(self.landmarks[idx], dtype=torch.float)\n",
    "\n",
    "        if self.transforms:\n",
    "            image_trans = self.transforms(image)\n",
    "            return image, landmarks\n",
    "            \n",
    "        return image, landmarks\n",
    "        "
   ]
  },
  {
   "cell_type": "code",
   "execution_count": 13,
   "id": "da16cb11",
   "metadata": {
    "execution": {
     "iopub.execute_input": "2025-03-10T14:10:37.258151Z",
     "iopub.status.busy": "2025-03-10T14:10:37.257925Z",
     "iopub.status.idle": "2025-03-10T14:10:38.026495Z",
     "shell.execute_reply": "2025-03-10T14:10:38.025621Z"
    },
    "papermill": {
     "duration": 0.778614,
     "end_time": "2025-03-10T14:10:38.027933",
     "exception": false,
     "start_time": "2025-03-10T14:10:37.249319",
     "status": "completed"
    },
    "tags": []
   },
   "outputs": [
    {
     "name": "stderr",
     "output_type": "stream",
     "text": [
      "<ipython-input-12-c4aaae7320f8>:10: UserWarning: Reading `.npy` or `.npz` file required additional header parsing as it was created on Python 2. Save the file again to speed up loading and avoid this warning.\n",
      "  images = images[images.files[0]] # get the data\n"
     ]
    },
    {
     "name": "stdout",
     "output_type": "stream",
     "text": [
      "4934 2115\n",
      "155 67\n"
     ]
    }
   ],
   "source": [
    "seeds()\n",
    "dataset = LandmarkDataset(images_path, keypoints_path)\n",
    "\n",
    "samples = torch.randperm(len(dataset))\n",
    "train_size = int(0.7 * len(dataset))\n",
    "\n",
    "train_dataset = Subset(dataset, samples[:train_size])\n",
    "test_dataset = Subset(dataset, samples[train_size:])\n",
    "\n",
    "BATCH_SIZE =32\n",
    "train_dataloader = DataLoader(train_dataset, BATCH_SIZE, shuffle=True)\n",
    "test_dataloader = DataLoader(test_dataset, BATCH_SIZE)\n",
    "\n",
    "\n",
    "print(len(train_dataset), len(test_dataset))\n",
    "print(len(train_dataloader), len(test_dataloader))\n"
   ]
  },
  {
   "cell_type": "markdown",
   "id": "1089fac0",
   "metadata": {
    "papermill": {
     "duration": 0.008163,
     "end_time": "2025-03-10T14:10:38.045094",
     "exception": false,
     "start_time": "2025-03-10T14:10:38.036931",
     "status": "completed"
    },
    "tags": []
   },
   "source": [
    "## make the model\n",
    "####  inspect vgg16 backbone"
   ]
  },
  {
   "cell_type": "code",
   "execution_count": 14,
   "id": "b8e5bcfc",
   "metadata": {
    "execution": {
     "iopub.execute_input": "2025-03-10T14:10:38.062607Z",
     "iopub.status.busy": "2025-03-10T14:10:38.062318Z",
     "iopub.status.idle": "2025-03-10T14:10:42.278257Z",
     "shell.execute_reply": "2025-03-10T14:10:42.277562Z"
    },
    "papermill": {
     "duration": 4.226353,
     "end_time": "2025-03-10T14:10:42.279764",
     "exception": false,
     "start_time": "2025-03-10T14:10:38.053411",
     "status": "completed"
    },
    "tags": []
   },
   "outputs": [
    {
     "name": "stderr",
     "output_type": "stream",
     "text": [
      "Downloading: \"https://download.pytorch.org/models/vgg16-397923af.pth\" to /root/.cache/torch/hub/checkpoints/vgg16-397923af.pth\n",
      "100%|██████████| 528M/528M [00:02<00:00, 214MB/s]\n"
     ]
    }
   ],
   "source": [
    "weights = torchvision.models.VGG16_Weights.DEFAULT\n",
    "vgg16_model = torchvision.models.vgg16(weights=weights)\n",
    "transforms = weights.transforms()\n",
    "\n",
    "# summary(vgg16_model, input_size=(1,3,224,224), col_names=[\"input_size\",\"output_size\",\"trainable\"], row_settings=[\"ascii_only\",\"var_names\",])"
   ]
  },
  {
   "cell_type": "markdown",
   "id": "aa4622cc",
   "metadata": {
    "papermill": {
     "duration": 0.009644,
     "end_time": "2025-03-10T14:10:42.300140",
     "exception": false,
     "start_time": "2025-03-10T14:10:42.290496",
     "status": "completed"
    },
    "tags": []
   },
   "source": [
    "### landmark detection model"
   ]
  },
  {
   "cell_type": "code",
   "execution_count": 15,
   "id": "31151d2d",
   "metadata": {
    "execution": {
     "iopub.execute_input": "2025-03-10T14:10:42.320488Z",
     "iopub.status.busy": "2025-03-10T14:10:42.320252Z",
     "iopub.status.idle": "2025-03-10T14:10:42.326419Z",
     "shell.execute_reply": "2025-03-10T14:10:42.325790Z"
    },
    "papermill": {
     "duration": 0.01768,
     "end_time": "2025-03-10T14:10:42.327711",
     "exception": false,
     "start_time": "2025-03-10T14:10:42.310031",
     "status": "completed"
    },
    "tags": []
   },
   "outputs": [],
   "source": [
    "class LandmarkDetectionModel(nn.Module):\n",
    "    def __init__(self, model:torchvision.models.vgg.VGG, in_features=1, hidden_units=64, num_landmarks:int=15):\n",
    "        super().__init__()\n",
    "        self.backbone = nn.Sequential(\n",
    "            nn.Conv2d(in_features, 64, kernel_size=(3, 3), stride=(1, 1), padding=(1, 1)), # one color chanel\n",
    "            model.features[1:],\n",
    "        )\n",
    "        self.avg_pool = model.avgpool\n",
    "        self.regression_layer = nn.Sequential(\n",
    "            nn.Flatten(),\n",
    "            nn.Linear(in_features=25088, out_features=hidden_units),\n",
    "            nn.Linear(in_features=hidden_units, out_features=hidden_units),\n",
    "            nn.Linear(in_features=hidden_units, out_features=hidden_units),\n",
    "            nn.ReLU(),\n",
    "            nn.Linear(in_features=hidden_units, out_features=hidden_units),\n",
    "            nn.Linear(in_features=hidden_units, out_features=hidden_units),\n",
    "            nn.ReLU(),\n",
    "            nn.Linear(in_features=hidden_units, out_features=hidden_units),\n",
    "            nn.Linear(in_features=hidden_units, out_features=hidden_units),\n",
    "            nn.Linear(in_features=hidden_units, out_features=hidden_units),\n",
    "            nn.ReLU(),\n",
    "            nn.Linear(in_features=hidden_units, out_features=hidden_units),\n",
    "            nn.Linear(in_features=hidden_units, out_features=num_landmarks*2)\n",
    "        )\n",
    "\n",
    "    def forward(self, x):\n",
    "        x = self.backbone(x)\n",
    "        x = self.avg_pool(x)\n",
    "        return self.regression_layer(x)"
   ]
  },
  {
   "cell_type": "code",
   "execution_count": 16,
   "id": "bdf8b07b",
   "metadata": {
    "execution": {
     "iopub.execute_input": "2025-03-10T14:10:42.347792Z",
     "iopub.status.busy": "2025-03-10T14:10:42.347530Z",
     "iopub.status.idle": "2025-03-10T14:10:42.568966Z",
     "shell.execute_reply": "2025-03-10T14:10:42.568167Z"
    },
    "papermill": {
     "duration": 0.233055,
     "end_time": "2025-03-10T14:10:42.570440",
     "exception": false,
     "start_time": "2025-03-10T14:10:42.337385",
     "status": "completed"
    },
    "tags": []
   },
   "outputs": [
    {
     "data": {
      "text/plain": [
       "LandmarkDetectionModel(\n",
       "  (backbone): Sequential(\n",
       "    (0): Conv2d(1, 64, kernel_size=(3, 3), stride=(1, 1), padding=(1, 1))\n",
       "    (1): Sequential(\n",
       "      (1): ReLU(inplace=True)\n",
       "      (2): Conv2d(64, 64, kernel_size=(3, 3), stride=(1, 1), padding=(1, 1))\n",
       "      (3): ReLU(inplace=True)\n",
       "      (4): MaxPool2d(kernel_size=2, stride=2, padding=0, dilation=1, ceil_mode=False)\n",
       "      (5): Conv2d(64, 128, kernel_size=(3, 3), stride=(1, 1), padding=(1, 1))\n",
       "      (6): ReLU(inplace=True)\n",
       "      (7): Conv2d(128, 128, kernel_size=(3, 3), stride=(1, 1), padding=(1, 1))\n",
       "      (8): ReLU(inplace=True)\n",
       "      (9): MaxPool2d(kernel_size=2, stride=2, padding=0, dilation=1, ceil_mode=False)\n",
       "      (10): Conv2d(128, 256, kernel_size=(3, 3), stride=(1, 1), padding=(1, 1))\n",
       "      (11): ReLU(inplace=True)\n",
       "      (12): Conv2d(256, 256, kernel_size=(3, 3), stride=(1, 1), padding=(1, 1))\n",
       "      (13): ReLU(inplace=True)\n",
       "      (14): Conv2d(256, 256, kernel_size=(3, 3), stride=(1, 1), padding=(1, 1))\n",
       "      (15): ReLU(inplace=True)\n",
       "      (16): MaxPool2d(kernel_size=2, stride=2, padding=0, dilation=1, ceil_mode=False)\n",
       "      (17): Conv2d(256, 512, kernel_size=(3, 3), stride=(1, 1), padding=(1, 1))\n",
       "      (18): ReLU(inplace=True)\n",
       "      (19): Conv2d(512, 512, kernel_size=(3, 3), stride=(1, 1), padding=(1, 1))\n",
       "      (20): ReLU(inplace=True)\n",
       "      (21): Conv2d(512, 512, kernel_size=(3, 3), stride=(1, 1), padding=(1, 1))\n",
       "      (22): ReLU(inplace=True)\n",
       "      (23): MaxPool2d(kernel_size=2, stride=2, padding=0, dilation=1, ceil_mode=False)\n",
       "      (24): Conv2d(512, 512, kernel_size=(3, 3), stride=(1, 1), padding=(1, 1))\n",
       "      (25): ReLU(inplace=True)\n",
       "      (26): Conv2d(512, 512, kernel_size=(3, 3), stride=(1, 1), padding=(1, 1))\n",
       "      (27): ReLU(inplace=True)\n",
       "      (28): Conv2d(512, 512, kernel_size=(3, 3), stride=(1, 1), padding=(1, 1))\n",
       "      (29): ReLU(inplace=True)\n",
       "      (30): MaxPool2d(kernel_size=2, stride=2, padding=0, dilation=1, ceil_mode=False)\n",
       "    )\n",
       "  )\n",
       "  (avg_pool): AdaptiveAvgPool2d(output_size=(7, 7))\n",
       "  (regression_layer): Sequential(\n",
       "    (0): Flatten(start_dim=1, end_dim=-1)\n",
       "    (1): Linear(in_features=25088, out_features=64, bias=True)\n",
       "    (2): Linear(in_features=64, out_features=64, bias=True)\n",
       "    (3): Linear(in_features=64, out_features=64, bias=True)\n",
       "    (4): ReLU()\n",
       "    (5): Linear(in_features=64, out_features=64, bias=True)\n",
       "    (6): Linear(in_features=64, out_features=64, bias=True)\n",
       "    (7): ReLU()\n",
       "    (8): Linear(in_features=64, out_features=64, bias=True)\n",
       "    (9): Linear(in_features=64, out_features=64, bias=True)\n",
       "    (10): Linear(in_features=64, out_features=64, bias=True)\n",
       "    (11): ReLU()\n",
       "    (12): Linear(in_features=64, out_features=64, bias=True)\n",
       "    (13): Linear(in_features=64, out_features=30, bias=True)\n",
       "  )\n",
       ")"
      ]
     },
     "execution_count": 16,
     "metadata": {},
     "output_type": "execute_result"
    }
   ],
   "source": [
    "seeds()\n",
    "model = LandmarkDetectionModel(model=vgg16_model).to(device)\n",
    "model"
   ]
  },
  {
   "cell_type": "code",
   "execution_count": 17,
   "id": "52bb4c3b",
   "metadata": {
    "execution": {
     "iopub.execute_input": "2025-03-10T14:10:42.591330Z",
     "iopub.status.busy": "2025-03-10T14:10:42.591087Z",
     "iopub.status.idle": "2025-03-10T14:10:42.597207Z",
     "shell.execute_reply": "2025-03-10T14:10:42.596341Z"
    },
    "papermill": {
     "duration": 0.01765,
     "end_time": "2025-03-10T14:10:42.598502",
     "exception": false,
     "start_time": "2025-03-10T14:10:42.580852",
     "status": "completed"
    },
    "tags": []
   },
   "outputs": [],
   "source": [
    "from torch.optim import Adam, SGD\n",
    "from torch.nn import MSELoss\n",
    "\n",
    "seeds()\n",
    "optimizer = Adam(model.parameters(), lr=1e-3)\n",
    "criterion = MSELoss().to(device)"
   ]
  },
  {
   "cell_type": "markdown",
   "id": "f8850dd3",
   "metadata": {
    "papermill": {
     "duration": 0.009577,
     "end_time": "2025-03-10T14:10:42.617883",
     "exception": false,
     "start_time": "2025-03-10T14:10:42.608306",
     "status": "completed"
    },
    "tags": []
   },
   "source": [
    "#### training loop"
   ]
  },
  {
   "cell_type": "code",
   "execution_count": 18,
   "id": "50487e09",
   "metadata": {
    "execution": {
     "iopub.execute_input": "2025-03-10T14:10:42.638016Z",
     "iopub.status.busy": "2025-03-10T14:10:42.637778Z",
     "iopub.status.idle": "2025-03-10T14:10:42.669051Z",
     "shell.execute_reply": "2025-03-10T14:10:42.668372Z"
    },
    "papermill": {
     "duration": 0.04271,
     "end_time": "2025-03-10T14:10:42.670307",
     "exception": false,
     "start_time": "2025-03-10T14:10:42.627597",
     "status": "completed"
    },
    "tags": []
   },
   "outputs": [
    {
     "name": "stdout",
     "output_type": "stream",
     "text": [
      "invalid mode bams!!! using RMSE\n"
     ]
    },
    {
     "data": {
      "text/plain": [
       "8.079423904418945"
      ]
     },
     "execution_count": 18,
     "metadata": {},
     "output_type": "execute_result"
    }
   ],
   "source": [
    "def accuracy(y_preds, y_logits, mode:str='rmse'):\n",
    "    if(mode == 'mse'):\n",
    "        mse = ((y_logits - y_preds)**2).sum().item()\n",
    "        return mse / len(y_preds)\n",
    "    elif (mode == 'rmse'):\n",
    "        rmse = torch.sqrt((y_logits - y_preds)**2).sum().item()\n",
    "        return rmse / len(y_preds)\n",
    "    else:\n",
    "        rmse = torch.sqrt((y_logits - y_preds)**2).sum().item()\n",
    "        print(f\"invalid mode {mode}!!! using RMSE\")\n",
    "        return rmse / len(y_preds)\n",
    "        \n",
    "\n",
    "accuracy(torch.rand(1,30), torch.rand(1,30), 'bams')"
   ]
  },
  {
   "cell_type": "code",
   "execution_count": 19,
   "id": "862268c8",
   "metadata": {
    "execution": {
     "iopub.execute_input": "2025-03-10T14:10:42.690925Z",
     "iopub.status.busy": "2025-03-10T14:10:42.690709Z",
     "iopub.status.idle": "2025-03-10T14:17:32.120624Z",
     "shell.execute_reply": "2025-03-10T14:17:32.119424Z"
    },
    "papermill": {
     "duration": 409.441906,
     "end_time": "2025-03-10T14:17:32.122090",
     "exception": false,
     "start_time": "2025-03-10T14:10:42.680184",
     "status": "completed"
    },
    "tags": []
   },
   "outputs": [
    {
     "name": "stdout",
     "output_type": "stream",
     "text": [
      "[1/45] | train_loss: 686.561 | train_acc: 578.928 | test_loss: 674.510 | test_acc: 604.201\n",
      "[2/45] | train_loss: 472.948 | train_acc: 526.661 | test_loss: 433.897 | test_acc: 523.574\n",
      "[3/45] | train_loss: 430.698 | train_acc: 498.051 | test_loss: 387.748 | test_acc: 479.448\n",
      "[4/45] | train_loss: 410.508 | train_acc: 464.170 | test_loss: 458.659 | test_acc: 512.942\n",
      "[5/45] | train_loss: 370.587 | train_acc: 429.014 | test_loss: 329.358 | test_acc: 386.504\n",
      "[6/45] | train_loss: 308.117 | train_acc: 374.256 | test_loss: 448.283 | test_acc: 402.736\n",
      "[7/45] | train_loss: 315.940 | train_acc: 380.227 | test_loss: 312.831 | test_acc: 332.742\n",
      "[8/45] | train_loss: 307.672 | train_acc: 365.516 | test_loss: 374.635 | test_acc: 373.851\n",
      "[9/45] | train_loss: 275.231 | train_acc: 340.289 | test_loss: 299.922 | test_acc: 330.940\n",
      "[10/45] | train_loss: 272.375 | train_acc: 337.506 | test_loss: 292.941 | test_acc: 326.206\n",
      "[11/45] | train_loss: 258.817 | train_acc: 319.913 | test_loss: 346.002 | test_acc: 348.716\n",
      "[12/45] | train_loss: 238.819 | train_acc: 301.755 | test_loss: 259.868 | test_acc: 331.175\n",
      "[13/45] | train_loss: 224.016 | train_acc: 289.061 | test_loss: 278.046 | test_acc: 283.093\n",
      "[14/45] | train_loss: 215.004 | train_acc: 274.481 | test_loss: 384.159 | test_acc: 440.937\n",
      "[15/45] | train_loss: 207.601 | train_acc: 267.812 | test_loss: 242.615 | test_acc: 294.195\n",
      "[16/45] | train_loss: 198.471 | train_acc: 259.879 | test_loss: 242.071 | test_acc: 297.567\n",
      "[17/45] | train_loss: 184.368 | train_acc: 249.534 | test_loss: 270.022 | test_acc: 288.914\n",
      "[18/45] | train_loss: 193.427 | train_acc: 253.906 | test_loss: 217.433 | test_acc: 258.467\n",
      "[19/45] | train_loss: 1289.926 | train_acc: 679.605 | test_loss: 1319.111 | test_acc: 743.176\n",
      "[20/45] | train_loss: 1122.010 | train_acc: 700.815 | test_loss: 600.532 | test_acc: 609.380\n",
      "[21/45] | train_loss: 415.078 | train_acc: 487.869 | test_loss: 419.165 | test_acc: 488.814\n",
      "[22/45] | train_loss: 383.512 | train_acc: 486.500 | test_loss: 384.190 | test_acc: 495.817\n",
      "[23/45] | train_loss: 371.884 | train_acc: 467.912 | test_loss: 516.423 | test_acc: 554.540\n",
      "[24/45] | train_loss: 308.983 | train_acc: 372.784 | test_loss: 264.156 | test_acc: 331.330\n",
      "[25/45] | train_loss: 250.465 | train_acc: 307.458 | test_loss: 270.090 | test_acc: 338.847\n",
      "[26/45] | train_loss: 242.869 | train_acc: 296.813 | test_loss: 281.109 | test_acc: 301.234\n",
      "[27/45] | train_loss: 208.998 | train_acc: 260.131 | test_loss: 215.498 | test_acc: 224.530\n",
      "[28/45] | train_loss: 196.110 | train_acc: 245.135 | test_loss: 261.055 | test_acc: 238.860\n",
      "[29/45] | train_loss: 204.745 | train_acc: 253.950 | test_loss: 209.148 | test_acc: 268.290\n",
      "[30/45] | train_loss: 175.205 | train_acc: 219.826 | test_loss: 231.634 | test_acc: 280.521\n",
      "[31/45] | train_loss: 173.937 | train_acc: 222.453 | test_loss: 202.372 | test_acc: 202.441\n",
      "[32/45] | train_loss: 171.401 | train_acc: 217.034 | test_loss: 191.861 | test_acc: 228.177\n",
      "[33/45] | train_loss: 149.049 | train_acc: 196.384 | test_loss: 196.379 | test_acc: 190.145\n",
      "[34/45] | train_loss: 178.241 | train_acc: 221.539 | test_loss: 279.329 | test_acc: 272.677\n",
      "[35/45] | train_loss: 163.940 | train_acc: 205.485 | test_loss: 202.663 | test_acc: 220.131\n",
      "[36/45] | train_loss: 194.552 | train_acc: 238.549 | test_loss: 199.543 | test_acc: 259.082\n",
      "[37/45] | train_loss: 145.220 | train_acc: 184.128 | test_loss: 184.042 | test_acc: 193.858\n",
      "[38/45] | train_loss: 131.150 | train_acc: 169.225 | test_loss: 185.444 | test_acc: 212.806\n",
      "[39/45] | train_loss: 123.614 | train_acc: 166.083 | test_loss: 197.599 | test_acc: 172.447\n",
      "[40/45] | train_loss: 132.135 | train_acc: 170.413 | test_loss: 214.553 | test_acc: 246.296\n",
      "[41/45] | train_loss: 121.830 | train_acc: 161.510 | test_loss: 208.104 | test_acc: 206.301\n",
      "[42/45] | train_loss: 114.194 | train_acc: 153.391 | test_loss: 175.688 | test_acc: 177.912\n",
      "[43/45] | train_loss: 264.902 | train_acc: 293.993 | test_loss: 426.308 | test_acc: 471.353\n",
      "[44/45] | train_loss: 413.309 | train_acc: 470.825 | test_loss: 425.920 | test_acc: 466.641\n",
      "[45/45] | train_loss: 412.748 | train_acc: 467.770 | test_loss: 426.401 | test_acc: 466.994\n"
     ]
    }
   ],
   "source": [
    "EPOCHS = 45\n",
    "history = {'train_loss': [], 'train_acc': [], 'eval_loss': [], 'eval_acc': []}\n",
    "\n",
    "for epoch in range(EPOCHS):\n",
    "    train_acc, train_loss = 0,0\n",
    "    model.train()\n",
    "    for batch, (X_train, y_train) in enumerate(train_dataloader):\n",
    "        X_train, y_train = X_train.to(device), y_train.to(device)\n",
    "\n",
    "        logits = model(X_train)\n",
    "        loss = criterion(logits, y_train)\n",
    "        train_acc += accuracy(logits, y_train)\n",
    "        train_loss += loss\n",
    "\n",
    "        optimizer.zero_grad()  # prevent gradients from accumulating\n",
    "        loss.backward()\n",
    "        optimizer.step()\n",
    "    train_acc /= len(train_dataloader)\n",
    "    train_loss /= len(train_dataloader)\n",
    "    history['train_loss'].append(train_loss)\n",
    "    history['train_acc'].append(train_acc)\n",
    "    \n",
    "\n",
    "\n",
    "    model.eval()\n",
    "    with torch.inference_mode():\n",
    "        test_acc, test_loss = 0, 0\n",
    "        for X_test, y_test in test_dataloader:\n",
    "            X_test, y_test = X_test.to(device), y_test.to(device)\n",
    "            test_logits = model(X_test)\n",
    "            t_loss = criterion(test_logits, y_test)\n",
    "            test_acc += accuracy(test_logits, y_test)\n",
    "            test_loss += t_loss\n",
    "\n",
    "        test_acc /= len(test_dataloader)\n",
    "        test_loss /= len(test_dataloader)\n",
    "        history['eval_loss'].append(test_loss)\n",
    "        history['eval_acc'].append(test_acc)\n",
    "\n",
    "    print(f\"[{epoch + 1}/{EPOCHS}] | train_loss: {train_loss:.3f} | train_acc: {train_acc:.3f} | test_loss: {test_loss:.3f} | test_acc: {test_acc:.3f}\")"
   ]
  },
  {
   "cell_type": "code",
   "execution_count": 20,
   "id": "9de55a7a",
   "metadata": {
    "execution": {
     "iopub.execute_input": "2025-03-10T14:17:32.147419Z",
     "iopub.status.busy": "2025-03-10T14:17:32.147184Z",
     "iopub.status.idle": "2025-03-10T14:17:32.239321Z",
     "shell.execute_reply": "2025-03-10T14:17:32.238366Z"
    },
    "papermill": {
     "duration": 0.106291,
     "end_time": "2025-03-10T14:17:32.240948",
     "exception": false,
     "start_time": "2025-03-10T14:17:32.134657",
     "status": "completed"
    },
    "tags": []
   },
   "outputs": [],
   "source": [
    "torch.save(model.state_dict(), \"face_landmark_model_01_MSE_662_73.pth\")"
   ]
  },
  {
   "cell_type": "code",
   "execution_count": 21,
   "id": "f944f060",
   "metadata": {
    "execution": {
     "iopub.execute_input": "2025-03-10T14:17:32.265907Z",
     "iopub.status.busy": "2025-03-10T14:17:32.265634Z",
     "iopub.status.idle": "2025-03-10T14:17:32.574135Z",
     "shell.execute_reply": "2025-03-10T14:17:32.573236Z"
    },
    "papermill": {
     "duration": 0.322118,
     "end_time": "2025-03-10T14:17:32.575462",
     "exception": false,
     "start_time": "2025-03-10T14:17:32.253344",
     "status": "completed"
    },
    "tags": []
   },
   "outputs": [
    {
     "data": {
      "text/html": [
       "<div>\n",
       "<style scoped>\n",
       "    .dataframe tbody tr th:only-of-type {\n",
       "        vertical-align: middle;\n",
       "    }\n",
       "\n",
       "    .dataframe tbody tr th {\n",
       "        vertical-align: top;\n",
       "    }\n",
       "\n",
       "    .dataframe thead th {\n",
       "        text-align: right;\n",
       "    }\n",
       "</style>\n",
       "<table border=\"1\" class=\"dataframe\">\n",
       "  <thead>\n",
       "    <tr style=\"text-align: right;\">\n",
       "      <th></th>\n",
       "      <th>train_loss</th>\n",
       "      <th>train_acc</th>\n",
       "      <th>eval_loss</th>\n",
       "      <th>eval_acc</th>\n",
       "    </tr>\n",
       "  </thead>\n",
       "  <tbody>\n",
       "    <tr>\n",
       "      <th>0</th>\n",
       "      <td>686.560669</td>\n",
       "      <td>578.927898</td>\n",
       "      <td>674.509521</td>\n",
       "      <td>604.201382</td>\n",
       "    </tr>\n",
       "    <tr>\n",
       "      <th>1</th>\n",
       "      <td>472.947662</td>\n",
       "      <td>526.660834</td>\n",
       "      <td>433.897247</td>\n",
       "      <td>523.573701</td>\n",
       "    </tr>\n",
       "    <tr>\n",
       "      <th>2</th>\n",
       "      <td>430.697632</td>\n",
       "      <td>498.050972</td>\n",
       "      <td>387.748444</td>\n",
       "      <td>479.447587</td>\n",
       "    </tr>\n",
       "    <tr>\n",
       "      <th>3</th>\n",
       "      <td>410.507690</td>\n",
       "      <td>464.169736</td>\n",
       "      <td>458.658661</td>\n",
       "      <td>512.941795</td>\n",
       "    </tr>\n",
       "    <tr>\n",
       "      <th>4</th>\n",
       "      <td>370.586884</td>\n",
       "      <td>429.014241</td>\n",
       "      <td>329.358398</td>\n",
       "      <td>386.504301</td>\n",
       "    </tr>\n",
       "    <tr>\n",
       "      <th>5</th>\n",
       "      <td>308.117096</td>\n",
       "      <td>374.255788</td>\n",
       "      <td>448.283112</td>\n",
       "      <td>402.735624</td>\n",
       "    </tr>\n",
       "    <tr>\n",
       "      <th>6</th>\n",
       "      <td>315.940155</td>\n",
       "      <td>380.226580</td>\n",
       "      <td>312.830627</td>\n",
       "      <td>332.742171</td>\n",
       "    </tr>\n",
       "    <tr>\n",
       "      <th>7</th>\n",
       "      <td>307.672272</td>\n",
       "      <td>365.516219</td>\n",
       "      <td>374.635315</td>\n",
       "      <td>373.851478</td>\n",
       "    </tr>\n",
       "    <tr>\n",
       "      <th>8</th>\n",
       "      <td>275.230560</td>\n",
       "      <td>340.289201</td>\n",
       "      <td>299.921509</td>\n",
       "      <td>330.940384</td>\n",
       "    </tr>\n",
       "    <tr>\n",
       "      <th>9</th>\n",
       "      <td>272.375336</td>\n",
       "      <td>337.505914</td>\n",
       "      <td>292.940918</td>\n",
       "      <td>326.206256</td>\n",
       "    </tr>\n",
       "    <tr>\n",
       "      <th>10</th>\n",
       "      <td>258.816589</td>\n",
       "      <td>319.913049</td>\n",
       "      <td>346.001648</td>\n",
       "      <td>348.715598</td>\n",
       "    </tr>\n",
       "    <tr>\n",
       "      <th>11</th>\n",
       "      <td>238.819229</td>\n",
       "      <td>301.755295</td>\n",
       "      <td>259.867584</td>\n",
       "      <td>331.174689</td>\n",
       "    </tr>\n",
       "    <tr>\n",
       "      <th>12</th>\n",
       "      <td>224.016327</td>\n",
       "      <td>289.060531</td>\n",
       "      <td>278.045837</td>\n",
       "      <td>283.093211</td>\n",
       "    </tr>\n",
       "    <tr>\n",
       "      <th>13</th>\n",
       "      <td>215.003632</td>\n",
       "      <td>274.480867</td>\n",
       "      <td>384.159119</td>\n",
       "      <td>440.936607</td>\n",
       "    </tr>\n",
       "    <tr>\n",
       "      <th>14</th>\n",
       "      <td>207.600983</td>\n",
       "      <td>267.812404</td>\n",
       "      <td>242.615311</td>\n",
       "      <td>294.194704</td>\n",
       "    </tr>\n",
       "    <tr>\n",
       "      <th>15</th>\n",
       "      <td>198.471085</td>\n",
       "      <td>259.879034</td>\n",
       "      <td>242.070633</td>\n",
       "      <td>297.566913</td>\n",
       "    </tr>\n",
       "    <tr>\n",
       "      <th>16</th>\n",
       "      <td>184.368149</td>\n",
       "      <td>249.533955</td>\n",
       "      <td>270.022430</td>\n",
       "      <td>288.913679</td>\n",
       "    </tr>\n",
       "    <tr>\n",
       "      <th>17</th>\n",
       "      <td>193.426590</td>\n",
       "      <td>253.906225</td>\n",
       "      <td>217.432602</td>\n",
       "      <td>258.467243</td>\n",
       "    </tr>\n",
       "    <tr>\n",
       "      <th>18</th>\n",
       "      <td>1289.925659</td>\n",
       "      <td>679.605492</td>\n",
       "      <td>1319.111084</td>\n",
       "      <td>743.175759</td>\n",
       "    </tr>\n",
       "    <tr>\n",
       "      <th>19</th>\n",
       "      <td>1122.010376</td>\n",
       "      <td>700.814838</td>\n",
       "      <td>600.532410</td>\n",
       "      <td>609.380469</td>\n",
       "    </tr>\n",
       "    <tr>\n",
       "      <th>20</th>\n",
       "      <td>415.077789</td>\n",
       "      <td>487.869399</td>\n",
       "      <td>419.165222</td>\n",
       "      <td>488.813964</td>\n",
       "    </tr>\n",
       "    <tr>\n",
       "      <th>21</th>\n",
       "      <td>383.511902</td>\n",
       "      <td>486.499561</td>\n",
       "      <td>384.190063</td>\n",
       "      <td>495.817148</td>\n",
       "    </tr>\n",
       "    <tr>\n",
       "      <th>22</th>\n",
       "      <td>371.884155</td>\n",
       "      <td>467.911533</td>\n",
       "      <td>516.422974</td>\n",
       "      <td>554.540187</td>\n",
       "    </tr>\n",
       "    <tr>\n",
       "      <th>23</th>\n",
       "      <td>308.982910</td>\n",
       "      <td>372.783616</td>\n",
       "      <td>264.156494</td>\n",
       "      <td>331.329714</td>\n",
       "    </tr>\n",
       "    <tr>\n",
       "      <th>24</th>\n",
       "      <td>250.464569</td>\n",
       "      <td>307.458224</td>\n",
       "      <td>270.090210</td>\n",
       "      <td>338.846948</td>\n",
       "    </tr>\n",
       "    <tr>\n",
       "      <th>25</th>\n",
       "      <td>242.869049</td>\n",
       "      <td>296.812695</td>\n",
       "      <td>281.108948</td>\n",
       "      <td>301.233689</td>\n",
       "    </tr>\n",
       "    <tr>\n",
       "      <th>26</th>\n",
       "      <td>208.998047</td>\n",
       "      <td>260.130696</td>\n",
       "      <td>215.498154</td>\n",
       "      <td>224.530308</td>\n",
       "    </tr>\n",
       "    <tr>\n",
       "      <th>27</th>\n",
       "      <td>196.109970</td>\n",
       "      <td>245.135096</td>\n",
       "      <td>261.055267</td>\n",
       "      <td>238.859648</td>\n",
       "    </tr>\n",
       "    <tr>\n",
       "      <th>28</th>\n",
       "      <td>204.744965</td>\n",
       "      <td>253.950271</td>\n",
       "      <td>209.148087</td>\n",
       "      <td>268.290137</td>\n",
       "    </tr>\n",
       "    <tr>\n",
       "      <th>29</th>\n",
       "      <td>175.204788</td>\n",
       "      <td>219.825567</td>\n",
       "      <td>231.634338</td>\n",
       "      <td>280.520981</td>\n",
       "    </tr>\n",
       "    <tr>\n",
       "      <th>30</th>\n",
       "      <td>173.937347</td>\n",
       "      <td>222.453111</td>\n",
       "      <td>202.371796</td>\n",
       "      <td>202.440621</td>\n",
       "    </tr>\n",
       "    <tr>\n",
       "      <th>31</th>\n",
       "      <td>171.400635</td>\n",
       "      <td>217.033835</td>\n",
       "      <td>191.861389</td>\n",
       "      <td>228.177253</td>\n",
       "    </tr>\n",
       "    <tr>\n",
       "      <th>32</th>\n",
       "      <td>149.049088</td>\n",
       "      <td>196.384395</td>\n",
       "      <td>196.379150</td>\n",
       "      <td>190.145205</td>\n",
       "    </tr>\n",
       "    <tr>\n",
       "      <th>33</th>\n",
       "      <td>178.241272</td>\n",
       "      <td>221.539154</td>\n",
       "      <td>279.329041</td>\n",
       "      <td>272.676958</td>\n",
       "    </tr>\n",
       "    <tr>\n",
       "      <th>34</th>\n",
       "      <td>163.939636</td>\n",
       "      <td>205.484788</td>\n",
       "      <td>202.662994</td>\n",
       "      <td>220.130587</td>\n",
       "    </tr>\n",
       "    <tr>\n",
       "      <th>35</th>\n",
       "      <td>194.552078</td>\n",
       "      <td>238.548890</td>\n",
       "      <td>199.543182</td>\n",
       "      <td>259.082320</td>\n",
       "    </tr>\n",
       "    <tr>\n",
       "      <th>36</th>\n",
       "      <td>145.220367</td>\n",
       "      <td>184.128166</td>\n",
       "      <td>184.042038</td>\n",
       "      <td>193.857934</td>\n",
       "    </tr>\n",
       "    <tr>\n",
       "      <th>37</th>\n",
       "      <td>131.149536</td>\n",
       "      <td>169.225401</td>\n",
       "      <td>185.444382</td>\n",
       "      <td>212.806491</td>\n",
       "    </tr>\n",
       "    <tr>\n",
       "      <th>38</th>\n",
       "      <td>123.614136</td>\n",
       "      <td>166.083211</td>\n",
       "      <td>197.599091</td>\n",
       "      <td>172.447317</td>\n",
       "    </tr>\n",
       "    <tr>\n",
       "      <th>39</th>\n",
       "      <td>132.135376</td>\n",
       "      <td>170.413243</td>\n",
       "      <td>214.553299</td>\n",
       "      <td>246.295742</td>\n",
       "    </tr>\n",
       "    <tr>\n",
       "      <th>40</th>\n",
       "      <td>121.830452</td>\n",
       "      <td>161.509554</td>\n",
       "      <td>208.103958</td>\n",
       "      <td>206.301249</td>\n",
       "    </tr>\n",
       "    <tr>\n",
       "      <th>41</th>\n",
       "      <td>114.193596</td>\n",
       "      <td>153.390908</td>\n",
       "      <td>175.688126</td>\n",
       "      <td>177.912170</td>\n",
       "    </tr>\n",
       "    <tr>\n",
       "      <th>42</th>\n",
       "      <td>264.902435</td>\n",
       "      <td>293.992592</td>\n",
       "      <td>426.308380</td>\n",
       "      <td>471.352886</td>\n",
       "    </tr>\n",
       "    <tr>\n",
       "      <th>43</th>\n",
       "      <td>413.308960</td>\n",
       "      <td>470.824945</td>\n",
       "      <td>425.919586</td>\n",
       "      <td>466.641447</td>\n",
       "    </tr>\n",
       "    <tr>\n",
       "      <th>44</th>\n",
       "      <td>412.747711</td>\n",
       "      <td>467.770307</td>\n",
       "      <td>426.400665</td>\n",
       "      <td>466.994234</td>\n",
       "    </tr>\n",
       "  </tbody>\n",
       "</table>\n",
       "</div>"
      ],
      "text/plain": [
       "     train_loss   train_acc    eval_loss    eval_acc\n",
       "0    686.560669  578.927898   674.509521  604.201382\n",
       "1    472.947662  526.660834   433.897247  523.573701\n",
       "2    430.697632  498.050972   387.748444  479.447587\n",
       "3    410.507690  464.169736   458.658661  512.941795\n",
       "4    370.586884  429.014241   329.358398  386.504301\n",
       "5    308.117096  374.255788   448.283112  402.735624\n",
       "6    315.940155  380.226580   312.830627  332.742171\n",
       "7    307.672272  365.516219   374.635315  373.851478\n",
       "8    275.230560  340.289201   299.921509  330.940384\n",
       "9    272.375336  337.505914   292.940918  326.206256\n",
       "10   258.816589  319.913049   346.001648  348.715598\n",
       "11   238.819229  301.755295   259.867584  331.174689\n",
       "12   224.016327  289.060531   278.045837  283.093211\n",
       "13   215.003632  274.480867   384.159119  440.936607\n",
       "14   207.600983  267.812404   242.615311  294.194704\n",
       "15   198.471085  259.879034   242.070633  297.566913\n",
       "16   184.368149  249.533955   270.022430  288.913679\n",
       "17   193.426590  253.906225   217.432602  258.467243\n",
       "18  1289.925659  679.605492  1319.111084  743.175759\n",
       "19  1122.010376  700.814838   600.532410  609.380469\n",
       "20   415.077789  487.869399   419.165222  488.813964\n",
       "21   383.511902  486.499561   384.190063  495.817148\n",
       "22   371.884155  467.911533   516.422974  554.540187\n",
       "23   308.982910  372.783616   264.156494  331.329714\n",
       "24   250.464569  307.458224   270.090210  338.846948\n",
       "25   242.869049  296.812695   281.108948  301.233689\n",
       "26   208.998047  260.130696   215.498154  224.530308\n",
       "27   196.109970  245.135096   261.055267  238.859648\n",
       "28   204.744965  253.950271   209.148087  268.290137\n",
       "29   175.204788  219.825567   231.634338  280.520981\n",
       "30   173.937347  222.453111   202.371796  202.440621\n",
       "31   171.400635  217.033835   191.861389  228.177253\n",
       "32   149.049088  196.384395   196.379150  190.145205\n",
       "33   178.241272  221.539154   279.329041  272.676958\n",
       "34   163.939636  205.484788   202.662994  220.130587\n",
       "35   194.552078  238.548890   199.543182  259.082320\n",
       "36   145.220367  184.128166   184.042038  193.857934\n",
       "37   131.149536  169.225401   185.444382  212.806491\n",
       "38   123.614136  166.083211   197.599091  172.447317\n",
       "39   132.135376  170.413243   214.553299  246.295742\n",
       "40   121.830452  161.509554   208.103958  206.301249\n",
       "41   114.193596  153.390908   175.688126  177.912170\n",
       "42   264.902435  293.992592   426.308380  471.352886\n",
       "43   413.308960  470.824945   425.919586  466.641447\n",
       "44   412.747711  467.770307   426.400665  466.994234"
      ]
     },
     "execution_count": 21,
     "metadata": {},
     "output_type": "execute_result"
    }
   ],
   "source": [
    "history['train_loss'] = [loss.detach().cpu().item() for loss in history['train_loss']]\n",
    "history['eval_loss'] = [loss.detach().cpu().item() for loss in history['eval_loss']]\n",
    "\n",
    "history_df = pd.DataFrame(history)\n",
    "history_df"
   ]
  },
  {
   "cell_type": "code",
   "execution_count": 22,
   "id": "34e27427",
   "metadata": {
    "execution": {
     "iopub.execute_input": "2025-03-10T14:17:32.600982Z",
     "iopub.status.busy": "2025-03-10T14:17:32.600749Z",
     "iopub.status.idle": "2025-03-10T14:17:32.863342Z",
     "shell.execute_reply": "2025-03-10T14:17:32.862435Z"
    },
    "papermill": {
     "duration": 0.276484,
     "end_time": "2025-03-10T14:17:32.864523",
     "exception": false,
     "start_time": "2025-03-10T14:17:32.588039",
     "status": "completed"
    },
    "tags": []
   },
   "outputs": [
    {
     "data": {
      "text/plain": [
       "<matplotlib.legend.Legend at 0x7b3b05b646a0>"
      ]
     },
     "execution_count": 22,
     "metadata": {},
     "output_type": "execute_result"
    },
    {
     "data": {
      "image/png": "[encoded data removed]",
      "text/plain": [
       "<Figure size 640x480 with 1 Axes>"
      ]
     },
     "metadata": {},
     "output_type": "display_data"
    }
   ],
   "source": [
    "history_df['train_loss'].plot()\n",
    "history_df['eval_loss'].plot()\n",
    "plt.title(\"MSE Loss\")\n",
    "plt.ylabel(\"MSE Loss\")\n",
    "plt.xlabel(\"epochs\")\n",
    "plt.legend()"
   ]
  },
  {
   "cell_type": "code",
   "execution_count": 23,
   "id": "719395f4",
   "metadata": {
    "execution": {
     "iopub.execute_input": "2025-03-10T14:17:32.892010Z",
     "iopub.status.busy": "2025-03-10T14:17:32.891776Z",
     "iopub.status.idle": "2025-03-10T14:17:33.098802Z",
     "shell.execute_reply": "2025-03-10T14:17:33.097943Z"
    },
    "papermill": {
     "duration": 0.222007,
     "end_time": "2025-03-10T14:17:33.100155",
     "exception": false,
     "start_time": "2025-03-10T14:17:32.878148",
     "status": "completed"
    },
    "tags": []
   },
   "outputs": [
    {
     "data": {
      "text/plain": [
       "<matplotlib.legend.Legend at 0x7b3b0409a1a0>"
      ]
     },
     "execution_count": 23,
     "metadata": {},
     "output_type": "execute_result"
    },
    {
     "data": {
      "image/png": "[encoded data removed]",
      "text/plain": [
       "<Figure size 640x480 with 1 Axes>"
      ]
     },
     "metadata": {},
     "output_type": "display_data"
    }
   ],
   "source": [
    "history_df['train_acc'].plot()\n",
    "history_df['eval_acc'].plot()\n",
    "plt.title(\"RMSE Loss\")\n",
    "plt.ylabel(\"RMSE Loss\")\n",
    "plt.xlabel(\"epochs\")\n",
    "plt.legend()"
   ]
  },
  {
   "cell_type": "code",
   "execution_count": null,
   "id": "a240c421",
   "metadata": {
    "papermill": {
     "duration": 0.013834,
     "end_time": "2025-03-10T14:17:33.128948",
     "exception": false,
     "start_time": "2025-03-10T14:17:33.115114",
     "status": "completed"
    },
    "tags": []
   },
   "outputs": [],
   "source": []
  }
 ],
 "metadata": {
  "kaggle": {
   "accelerator": "gpu",
   "dataSources": [
    {
     "datasetId": 2598,
     "sourceId": 4327,
     "sourceType": "datasetVersion"
    }
   ],
   "dockerImageVersionId": 30918,
   "isGpuEnabled": true,
   "isInternetEnabled": true,
   "language": "python",
   "sourceType": "notebook"
  },
  "kernelspec": {
   "display_name": "Python 3",
   "language": "python",
   "name": "python3"
  },
  "language_info": {
   "codemirror_mode": {
    "name": "ipython",
    "version": 3
   },
   "file_extension": ".py",
   "mimetype": "text/x-python",
   "name": "python",
   "nbconvert_exporter": "python",
   "pygments_lexer": "ipython3",
   "version": "3.10.12"
  },
  "papermill": {
   "default_parameters": {},
   "duration": 432.718956,
   "end_time": "2025-03-10T14:17:35.165995",
   "environment_variables": {},
   "exception": null,
   "input_path": "__notebook__.ipynb",
   "output_path": "__notebook__.ipynb",
   "parameters": {},
   "start_time": "2025-03-10T14:10:22.447039",
   "version": "2.6.0"
  }
 },
 "nbformat": 4,
 "nbformat_minor": 5
}
